{
 "cells": [
  {
   "cell_type": "code",
   "execution_count": 1,
   "id": "b4189ee1",
   "metadata": {},
   "outputs": [],
   "source": [
    "import pandas as pd\n",
    "import numpy as np\n",
    "import matplotlib.pyplot as plt\n",
    "\n",
    "import warnings\n",
    "warnings.filterwarnings('ignore')\n",
    "\n",
    "#to display all rows columns \n",
    "pd.set_option('display.max_rows', None)\n",
    "pd.set_option('display.max_columns', None)  \n",
    "pd.set_option('display.expand_frame_repr', False)\n",
    "pd.set_option('max_colwidth', -1)"
   ]
  },
  {
   "cell_type": "code",
   "execution_count": 2,
   "id": "2926c85a",
   "metadata": {},
   "outputs": [],
   "source": [
    "ipl_df = pd.read_csv('all_matches.csv')"
   ]
  },
  {
   "cell_type": "code",
   "execution_count": 3,
   "id": "5f74ee48",
   "metadata": {},
   "outputs": [
    {
     "data": {
      "text/plain": [
       "array(['Kolkata Knight Riders', 'Royal Challengers Bangalore',\n",
       "       'Chennai Super Kings', 'Kings XI Punjab', 'Rajasthan Royals',\n",
       "       'Delhi Daredevils', 'Deccan Chargers', 'Mumbai Indians',\n",
       "       'Kochi Tuskers Kerala', 'Pune Warriors', 'Sunrisers Hyderabad',\n",
       "       'Rising Pune Supergiants', 'Gujarat Lions',\n",
       "       'Rising Pune Supergiant', 'Delhi Capitals', 'Punjab Kings',\n",
       "       'Lucknow Super Giants', 'Gujarat Titans'], dtype=object)"
      ]
     },
     "execution_count": 3,
     "metadata": {},
     "output_type": "execute_result"
    }
   ],
   "source": [
    "ipl_df.batting_team.unique()"
   ]
  },
  {
   "cell_type": "code",
   "execution_count": 4,
   "id": "38f150e4",
   "metadata": {},
   "outputs": [],
   "source": [
    "ipl_df = ipl_df[(ipl_df.innings ==1) | (ipl_df.innings ==2)]"
   ]
  },
  {
   "cell_type": "code",
   "execution_count": 5,
   "id": "7cc9b3a9",
   "metadata": {},
   "outputs": [],
   "source": [
    "ipl_df['total_runs'] = ipl_df.apply(lambda x:x['runs_off_bat']+x['extras'],axis =1)"
   ]
  },
  {
   "cell_type": "code",
   "execution_count": 6,
   "id": "7d3d4100",
   "metadata": {},
   "outputs": [],
   "source": [
    "ipl_df['isOut'] = ipl_df['player_dismissed'].apply(lambda x: 1 if type(x) == type('str') else 0)"
   ]
  },
  {
   "cell_type": "code",
   "execution_count": 7,
   "id": "d90e42a9",
   "metadata": {},
   "outputs": [],
   "source": [
    "# Win prediction\n",
    "# match_id = 1370353\n",
    "\n",
    "t1= 'Gujarat Titans'\n",
    "t2 = 'Chennai Super Kings'"
   ]
  },
  {
   "cell_type": "code",
   "execution_count": 8,
   "id": "f2ab0804",
   "metadata": {},
   "outputs": [],
   "source": [
    "matchID = 1370353"
   ]
  },
  {
   "cell_type": "code",
   "execution_count": 9,
   "id": "f7028b08",
   "metadata": {},
   "outputs": [],
   "source": [
    "mdf = ipl_df[ipl_df.match_id == matchID]"
   ]
  },
  {
   "cell_type": "code",
   "execution_count": 10,
   "id": "3d5ce2b3",
   "metadata": {},
   "outputs": [],
   "source": [
    "outcomes = [0,1,2,3,4,6,'w']"
   ]
  },
  {
   "cell_type": "code",
   "execution_count": 11,
   "id": "7e3debef",
   "metadata": {},
   "outputs": [
    {
     "data": {
      "text/plain": [
       "1    1796\n",
       "0    1209\n",
       "4    514 \n",
       "2    277 \n",
       "6    202 \n",
       "5    13  \n",
       "3    9   \n",
       "7    1   \n",
       "Name: total_runs, dtype: int64"
      ]
     },
     "execution_count": 11,
     "metadata": {},
     "output_type": "execute_result"
    }
   ],
   "source": [
    "ipl_df[ipl_df.batting_team==t1].total_runs.value_counts()"
   ]
  },
  {
   "cell_type": "code",
   "execution_count": 12,
   "id": "15d9bdc2",
   "metadata": {},
   "outputs": [
    {
     "data": {
      "text/plain": [
       "168"
      ]
     },
     "execution_count": 12,
     "metadata": {},
     "output_type": "execute_result"
    }
   ],
   "source": [
    "ipl_df[ipl_df.batting_team==t1].isOut.sum()"
   ]
  },
  {
   "cell_type": "code",
   "execution_count": 13,
   "id": "faf533e7",
   "metadata": {},
   "outputs": [],
   "source": [
    "t1_outcomes_count = ipl_df[ipl_df.batting_team==t1].total_runs.value_counts()\n",
    "t2_outcomes_count = ipl_df[ipl_df.batting_team==t2].total_runs.value_counts()"
   ]
  },
  {
   "cell_type": "code",
   "execution_count": 14,
   "id": "5d908806",
   "metadata": {},
   "outputs": [],
   "source": [
    "t1_outs = ipl_df[ipl_df.batting_team==t1].isOut.sum()\n",
    "t2_outs = ipl_df[ipl_df.batting_team==t2].isOut.sum()"
   ]
  },
  {
   "cell_type": "code",
   "execution_count": 15,
   "id": "798b67dd",
   "metadata": {},
   "outputs": [],
   "source": [
    "t1_outcomes = []\n",
    "t2_outcomes = []\n",
    "\n",
    "for outcome in outcomes:\n",
    "    if outcome!= 'w':\n",
    "        t1_outcomes.append(t1_outcomes_count[outcome])\n",
    "        t2_outcomes.append(t2_outcomes_count[outcome])\n",
    "    else:\n",
    "        t1_outcomes.append(t1_outs)\n",
    "        t2_outcomes.append(t2_outs)"
   ]
  },
  {
   "cell_type": "code",
   "execution_count": 16,
   "id": "a84a086c",
   "metadata": {},
   "outputs": [
    {
     "data": {
      "text/plain": [
       "([1209, 1796, 277, 9, 514, 202, 168],\n",
       " [9171, 11334, 1839, 106, 3029, 1392, 1166])"
      ]
     },
     "execution_count": 16,
     "metadata": {},
     "output_type": "execute_result"
    }
   ],
   "source": [
    "t1_outcomes ,t2_outcomes "
   ]
  },
  {
   "cell_type": "code",
   "execution_count": 17,
   "id": "5287110e",
   "metadata": {},
   "outputs": [],
   "source": [
    "t1_pb_outcomes = [(i/sum(t1_outcomes)) for i in t1_outcomes]\n",
    "t2_pb_outcomes = [(i/sum(t2_outcomes)) for i in t2_outcomes]"
   ]
  },
  {
   "cell_type": "code",
   "execution_count": 18,
   "id": "2d6e58de",
   "metadata": {},
   "outputs": [
    {
     "data": {
      "text/plain": [
       "([0.2895808383233533,\n",
       "  0.43017964071856285,\n",
       "  0.06634730538922155,\n",
       "  0.002155688622754491,\n",
       "  0.12311377245508982,\n",
       "  0.04838323353293413,\n",
       "  0.040239520958083835],\n",
       " [0.32710347041409565,\n",
       "  0.40425152477083853,\n",
       "  0.06559189642258444,\n",
       "  0.003780718336483932,\n",
       "  0.10803580982273424,\n",
       "  0.04964867853193994,\n",
       "  0.04158790170132325])"
      ]
     },
     "execution_count": 18,
     "metadata": {},
     "output_type": "execute_result"
    }
   ],
   "source": [
    "t1_pb_outcomes,t2_pb_outcomes"
   ]
  },
  {
   "cell_type": "markdown",
   "id": "b208b3cc",
   "metadata": {},
   "source": [
    "# Fetch probability values:"
   ]
  },
  {
   "cell_type": "code",
   "execution_count": 19,
   "id": "12f146bc",
   "metadata": {},
   "outputs": [],
   "source": [
    "t1_pb_is = np.cumsum(t1_pb_outcomes)\n",
    "t2_pb_is = np.cumsum(t2_pb_outcomes)"
   ]
  },
  {
   "cell_type": "code",
   "execution_count": 20,
   "id": "e75d1467",
   "metadata": {},
   "outputs": [
    {
     "data": {
      "text/plain": [
       "array([0.28958084, 0.71976048, 0.78610778, 0.78826347, 0.91137725,\n",
       "       0.95976048, 1.        ])"
      ]
     },
     "execution_count": 20,
     "metadata": {},
     "output_type": "execute_result"
    }
   ],
   "source": [
    "t1_pb_is"
   ]
  },
  {
   "cell_type": "code",
   "execution_count": 21,
   "id": "541a1b2c",
   "metadata": {},
   "outputs": [
    {
     "data": {
      "text/plain": [
       "array([0.32710347, 0.731355  , 0.79694689, 0.80072761, 0.90876342,\n",
       "       0.9584121 , 1.        ])"
      ]
     },
     "execution_count": 21,
     "metadata": {},
     "output_type": "execute_result"
    }
   ],
   "source": [
    "t2_pb_is"
   ]
  },
  {
   "cell_type": "code",
   "execution_count": 22,
   "id": "6bcdfefd",
   "metadata": {},
   "outputs": [],
   "source": [
    "def predict_runs(target, current_score, current_wickets, current_overs):\n",
    "    \n",
    "    i1p_0 = t1_pb_is[0]\n",
    "    i1p_1 = t1_pb_is[1]\n",
    "    i1p_2 = t1_pb_is[2]\n",
    "    i1p_3 = t1_pb_is[3]\n",
    "    i1p_4 = t1_pb_is[4]\n",
    "    i1p_6 = t1_pb_is[5]\n",
    "    i1p_w = t1_pb_is[6]\n",
    "\n",
    "    i2p_0 = t2_pb_is[0]\n",
    "    i2p_1 = t2_pb_is[1]\n",
    "    i2p_2 = t2_pb_is[2]\n",
    "    i2p_3 = t2_pb_is[3]\n",
    "    i2p_4 = t2_pb_is[4]\n",
    "    i2p_6 = t2_pb_is[5]\n",
    "    i2p_w = t2_pb_is[6]\n",
    "\n",
    "    pred_runs = current_score\n",
    "    pred_wks = current_wickets\n",
    "    over_ball = current_overs\n",
    "    \n",
    "#     over_no = int(str(over_ball).split('.')[0])\n",
    "#     ball_no = int(str(over_ball).split('.')[1])\n",
    "    \n",
    "    leftover_balls = 120-current_overs*6\n",
    "\n",
    "    for i in range(leftover_balls):\n",
    "        r_value = np.random.random()\n",
    "\n",
    "        if r_value <= i2p_0:\n",
    "            pred_runs += 0\n",
    "        elif r_value <= i2p_1:\n",
    "            pred_runs += 1\n",
    "        elif r_value <= i2p_2:\n",
    "            pred_runs += 2\n",
    "        elif r_value <= i2p_3:\n",
    "            pred_runs += 3\n",
    "        elif r_value <= i2p_4:\n",
    "            pred_runs += 4\n",
    "        elif r_value <= i2p_6:\n",
    "            pred_runs += 6\n",
    "        else:\n",
    "            pred_runs += 0\n",
    "            pred_wks += 1\n",
    "            if pred_wks == 10:\n",
    "                break\n",
    "        if pred_runs > target:\n",
    "            break\n",
    "        # print('pred_runs: ', pred_runs)\n",
    "        # print('pred_wks: ', pred_wks)\n",
    "    \n",
    "    return pred_runs"
   ]
  },
  {
   "cell_type": "code",
   "execution_count": 23,
   "id": "d26a7911",
   "metadata": {},
   "outputs": [
    {
     "data": {
      "text/plain": [
       "160"
      ]
     },
     "execution_count": 23,
     "metadata": {},
     "output_type": "execute_result"
    }
   ],
   "source": [
    "# predict_runs(target, current_score, current_wickets, current_overs)\n",
    "predict_runs(214, 0, 0, 0)"
   ]
  },
  {
   "cell_type": "markdown",
   "id": "fa559707",
   "metadata": {},
   "source": [
    "# Winner function:"
   ]
  },
  {
   "cell_type": "code",
   "execution_count": 24,
   "id": "8f581dcd",
   "metadata": {},
   "outputs": [],
   "source": [
    "def get_win(pred_runs, target):\n",
    "    if pred_runs > target:\n",
    "        return 'win'\n",
    "    elif pred_runs == target:\n",
    "        return 'tie'\n",
    "    else:\n",
    "        return 'lose'"
   ]
  },
  {
   "cell_type": "code",
   "execution_count": 25,
   "id": "465533f9",
   "metadata": {},
   "outputs": [],
   "source": [
    "# runs, wickets, overs, \n",
    "# win - 1st ing score\n",
    "\n",
    "# GT - 214/4\n",
    "\n",
    "target = 214\n",
    "\n",
    "current_score = 117\n",
    "current_wickets = 3\n",
    "current_overs = 11\n",
    "\n",
    "iter_count = 100\n",
    "\n",
    "runs_ls = []\n",
    "results_ls = []\n",
    "\n",
    "win_count = 0\n",
    "tie_count = 0\n",
    "lose_count = 0\n",
    "\n",
    "for i in range(iter_count):\n",
    "    pred_runs = predict_runs(target, current_score, current_wickets, current_overs)\n",
    "    runs_ls.append(pred_runs)\n",
    "    result_pred = get_win(pred_runs, target)\n",
    "    results_ls.append(result_pred)\n",
    "\n",
    "    if result_pred == 'win':\n",
    "        win_count += 1\n",
    "    elif result_pred == 'tie':\n",
    "        tie_count += 1\n",
    "    else:\n",
    "        lose_count +=1"
   ]
  },
  {
   "cell_type": "code",
   "execution_count": 26,
   "id": "30b820f4",
   "metadata": {},
   "outputs": [
    {
     "data": {
      "text/plain": [
       "(3, 1, 96)"
      ]
     },
     "execution_count": 26,
     "metadata": {},
     "output_type": "execute_result"
    }
   ],
   "source": [
    "win_count, tie_count, lose_count"
   ]
  },
  {
   "cell_type": "markdown",
   "id": "79f85d81",
   "metadata": {},
   "source": [
    "# Find out Runs at a required stage:"
   ]
  },
  {
   "cell_type": "code",
   "execution_count": 27,
   "id": "4263fc93",
   "metadata": {},
   "outputs": [],
   "source": [
    "# find out runs:\n",
    "def find_runs(current_score, target, current_wickets, at_overs):\n",
    "    runs_ls = []\n",
    "    results_ls = []\n",
    "\n",
    "    req_runs = []\n",
    "    win_ls = []\n",
    "\n",
    "    for i in range(current_score, target + 1):\n",
    "        win_count = 0\n",
    "        tie_count = 0\n",
    "        lose_count = 0\n",
    "\n",
    "        for j in range(100):\n",
    "            pred_runs = predict_runs(target, i, current_wickets, at_overs)\n",
    "            runs_ls.append(pred_runs)\n",
    "            result_pred = get_win(pred_runs, target)\n",
    "            results_ls.append(result_pred)\n",
    "\n",
    "            if result_pred == 'win':\n",
    "                win_count += 1\n",
    "            elif result_pred == 'tie':\n",
    "                tie_count += 1\n",
    "            else:\n",
    "                lose_count +=1\n",
    "\n",
    "            win_ls.append(win_count)\n",
    "            req_runs.append(i)\n",
    "            # print('runs: ', i, ' win%: ', win_count)\n",
    "\n",
    "    required_runs = current_score\n",
    "    for i in range(len(req_runs)):\n",
    "        if win_ls[i] >= 50:\n",
    "            required_runs = req_runs[i]\n",
    "            # print('Runs to be: ', req_runs[i])\n",
    "            break\n",
    "\n",
    "    return required_runs\n"
   ]
  },
  {
   "cell_type": "code",
   "execution_count": 28,
   "id": "f23be123",
   "metadata": {},
   "outputs": [
    {
     "data": {
      "text/plain": [
       "144"
      ]
     },
     "execution_count": 28,
     "metadata": {},
     "output_type": "execute_result"
    }
   ],
   "source": [
    "# find_runs(current_score, target, current_wickets, at_overs)\n",
    "find_runs(117, 214, 3, 11)"
   ]
  },
  {
   "cell_type": "markdown",
   "id": "06b12d9d",
   "metadata": {},
   "source": [
    "# Find out Wickets they can afford to lose:"
   ]
  },
  {
   "cell_type": "code",
   "execution_count": 29,
   "id": "8f6f1f14",
   "metadata": {},
   "outputs": [],
   "source": [
    "\n",
    "def find_wickets(current_score, target, current_wickets, at_overs):\n",
    "\n",
    "#     find_runs(current_score, target, current_wickets, at_overs)\n",
    "    req_runs = find_runs(current_score, target, current_wickets, at_overs)\n",
    "\n",
    "    runs_ls = []\n",
    "    results_ls = []\n",
    "\n",
    "    req_wks = []\n",
    "    win_ls = []\n",
    "\n",
    "    for i in range(current_wickets, 10):\n",
    "        win_count = 0\n",
    "        tie_count = 0\n",
    "        lose_count = 0\n",
    "\n",
    "        for j in range(100):\n",
    "#             pred_runs = predict_runs(target, req_runs, i, at_overs)\n",
    "            pred_runs = predict_runs(target, current_score, i, at_overs)\n",
    "            runs_ls.append(pred_runs)\n",
    "            result_pred = get_win(pred_runs, target)\n",
    "            results_ls.append(result_pred)\n",
    "\n",
    "            if result_pred == 'win':\n",
    "                win_count += 1\n",
    "            elif result_pred == 'tie':\n",
    "                tie_count += 1\n",
    "            else:\n",
    "                lose_count +=1\n",
    "\n",
    "        win_ls.append(win_count)\n",
    "        req_wks.append(i)\n",
    "        #print('wickets: ', i, ' win%: ', win_count)\n",
    "\n",
    "    req_wicket_value = current_wickets\n",
    "    \n",
    "    for i in range(len(req_wks)):\n",
    "        if (win_ls[i] < 45)  :\n",
    "            req_wicket_value = req_wks[i]\n",
    "            break\n",
    "\n",
    "    return req_wicket_value"
   ]
  },
  {
   "cell_type": "code",
   "execution_count": 30,
   "id": "6cade1c3",
   "metadata": {},
   "outputs": [
    {
     "data": {
      "text/plain": [
       "9"
      ]
     },
     "execution_count": 30,
     "metadata": {},
     "output_type": "execute_result"
    }
   ],
   "source": [
    "# wickets they can afford to lose:\n",
    "\n",
    "# find_wickets(current_score, target, current_wickets, at_overs)\n",
    "find_wickets(117, 167, 3, 11)"
   ]
  },
  {
   "cell_type": "markdown",
   "id": "2c307a95",
   "metadata": {},
   "source": [
    "# Function: Interactive chart"
   ]
  },
  {
   "cell_type": "code",
   "execution_count": 31,
   "id": "5fad9d01",
   "metadata": {},
   "outputs": [],
   "source": [
    "%matplotlib inline\n",
    "from ipywidgets import interactive\n",
    "import ipywidgets as widgets\n",
    "import matplotlib.pyplot as plt\n",
    "import numpy as np\n",
    "\n",
    "def find_runs_wickets(current_wks, at_overs, target_score):\n",
    "    plt.figure(figsize = (16, 6))\n",
    "    # x = np.linspace(-10, 10, num=1000)\n",
    "    x = np.array(list(range(21)))\n",
    "    req_value = find_runs(117, target_score, current_wks, at_overs)\n",
    "    req_wk_value = find_wickets(117, target_score, current_wks, at_overs)\n",
    "\n",
    "    if at_overs == 11:\n",
    "        req_value = 117\n",
    "        req_wk_value = 3\n",
    "\n",
    "    \n",
    "    # print(req_value)\n",
    "    y = np.array([req_value for i in range(21)])\n",
    "\n",
    "    # plt.plot(x, current_overs * x + target_score)\n",
    "    # plt.plot(x, y)\n",
    "    plt.scatter(at_overs, req_value, s = 1200, color = 'red')\n",
    "    plt.axhline(target_score, ls = '--', color = 'blue')\n",
    "    plt.text( 1, target_score + 10, 'Target Score :' + str(target_score) , color = 'darkblue', fontsize = 13)\n",
    "    plt.text( at_overs, req_value, str(req_value) + '/' + str(req_wk_value), color = 'white', fontsize = 12,  horizontalalignment='center', verticalalignment='center')\n",
    "    plt.text(at_overs, req_value - 30, 'CSK has to be at ' + str(req_value) + '/' +  str(req_wk_value) + ' after ' + str(at_overs) + ' ov', horizontalalignment='center')\n",
    "    plt.ylim(50, target_score + 50)\n",
    "    plt.xticks(x)\n",
    "    plt.title('Where should CSK be?', fontsize = 20)\n",
    "    plt.xlabel('Overs')\n",
    "    plt.ylabel('Score')\n",
    "    plt.show()\n",
    "\n",
    "# x=widgets.IntSlider(min=-10, max=30, step=1, value=10)\n",
    "\n",
    "# find_wickets(current_score, target, current_wickets, at_overs)\n",
    "# find_wickets(117, 214, 3, 11)\n"
   ]
  },
  {
   "cell_type": "markdown",
   "id": "4854607f",
   "metadata": {},
   "source": [
    "# Interactive Visualization:"
   ]
  },
  {
   "cell_type": "code",
   "execution_count": 32,
   "id": "ea7f9981",
   "metadata": {},
   "outputs": [
    {
     "name": "stdout",
     "output_type": "stream",
     "text": [
      "current_score = CSK: 117/3 (11 overs)\n",
      "\n"
     ]
    },
    {
     "data": {
      "application/vnd.jupyter.widget-view+json": {
       "model_id": "62a3a41754f942a39478d7ddf2d6d908",
       "version_major": 2,
       "version_minor": 0
      },
      "text/plain": [
       "interactive(children=(IntSlider(value=3, description='current_wks', max=10, min=1), IntSlider(value=11, descri…"
      ]
     },
     "metadata": {},
     "output_type": "display_data"
    }
   ],
   "source": [
    "print('current_score = CSK: 117/3 (11 overs)')\n",
    "print('')\n",
    "\n",
    "interactive_plot = interactive(find_runs_wickets, current_wks = widgets.IntSlider(min=1, max=10, step=1, value=3),  at_overs=widgets.IntSlider(min=10, max=20, step=1, value=11), target_score = widgets.IntSlider(min=0, max=250, step=1, value=214))\n",
    "output = interactive_plot.children[-1]\n",
    "output.layout.height = '450px'\n",
    "interactive_plot"
   ]
  },
  {
   "cell_type": "code",
   "execution_count": 33,
   "id": "10b9cd0e",
   "metadata": {},
   "outputs": [
    {
     "name": "stdout",
     "output_type": "stream",
     "text": [
      "current_score = CSK: 117/3 (11 overs)\n",
      "\n"
     ]
    },
    {
     "data": {
      "application/vnd.jupyter.widget-view+json": {
       "model_id": "0c8e145035b74db7882efa8106ee92e9",
       "version_major": 2,
       "version_minor": 0
      },
      "text/plain": [
       "interactive(children=(IntSlider(value=3, description='current_wks', max=10, min=1), IntSlider(value=11, descri…"
      ]
     },
     "metadata": {},
     "output_type": "display_data"
    }
   ],
   "source": [
    "# Function: Interactive chart\n",
    "\n",
    "%matplotlib inline\n",
    "from ipywidgets import interactive\n",
    "import ipywidgets as widgets\n",
    "import matplotlib.pyplot as plt\n",
    "import numpy as np\n",
    "\n",
    "def find_runs_wickets(current_wks, at_overs, target_score):\n",
    "    plt.figure(figsize = (16, 6))\n",
    "    # x = np.linspace(-10, 10, num=1000)\n",
    "    x = np.array(list(range(21)))\n",
    "    req_value = find_runs(117, target_score, current_wks, at_overs)\n",
    "    req_wk_value = find_wickets(117, target_score, current_wks, at_overs)\n",
    "\n",
    "    if at_overs == 11:\n",
    "        req_value = 117\n",
    "        req_wk_value = 3\n",
    "\n",
    "    \n",
    "    # print(req_value)\n",
    "    y = np.array([req_value for i in range(21)])\n",
    "\n",
    "    # plt.plot(x, current_overs * x + target_score)\n",
    "    # plt.plot(x, y)\n",
    "    plt.scatter(at_overs, req_value, s = 1200, color = 'red')\n",
    "    plt.axhline(target_score, ls = '--', color = 'blue')\n",
    "    plt.text( 1, target_score + 10, 'Target Score :' + str(target_score) , color = 'darkblue', fontsize = 13)\n",
    "    plt.text( at_overs, req_value, str(req_value) + '/' + str(req_wk_value), color = 'white', fontsize = 12,  horizontalalignment='center', verticalalignment='center')\n",
    "    plt.text(at_overs, req_value - 30, 'CSK has to be at ' + str(req_value) + '/' +  str(req_wk_value) + ' after ' + str(at_overs) + ' ov', horizontalalignment='center')\n",
    "    plt.ylim(50, target_score + 50)\n",
    "    plt.xticks(x)\n",
    "    plt.title('Where should CSK be?', fontsize = 20)\n",
    "    plt.xlabel('Overs')\n",
    "    plt.ylabel('Score')\n",
    "    plt.show()\n",
    "\n",
    "# x=widgets.IntSlider(min=-10, max=30, step=1, value=10)\n",
    "\n",
    "# find_wickets(current_score, target, current_wickets, at_overs)\n",
    "# find_wickets(117, 214, 3, 11)\n",
    "\n",
    "\n",
    "# Interactive Visualization:\n",
    "\n",
    "print('current_score = CSK: 117/3 (11 overs)')\n",
    "print('')\n",
    "\n",
    "interactive_plot = interactive(find_runs_wickets, current_wks = widgets.IntSlider(min=1, max=10, step=1, value=3),  at_overs=widgets.IntSlider(min=10, max=20, step=1, value=11), target_score = widgets.IntSlider(min=0, max=250, step=1, value=214))\n",
    "output = interactive_plot.children[-1]\n",
    "output.layout.height = '450px'\n",
    "interactive_plot"
   ]
  }
 ],
 "metadata": {
  "kernelspec": {
   "display_name": "Python 3 (ipykernel)",
   "language": "python",
   "name": "python3"
  },
  "language_info": {
   "codemirror_mode": {
    "name": "ipython",
    "version": 3
   },
   "file_extension": ".py",
   "mimetype": "text/x-python",
   "name": "python",
   "nbconvert_exporter": "python",
   "pygments_lexer": "ipython3",
   "version": "3.9.7"
  }
 },
 "nbformat": 4,
 "nbformat_minor": 5
}
