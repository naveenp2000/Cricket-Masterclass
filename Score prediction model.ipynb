{
 "cells": [
  {
   "cell_type": "code",
   "execution_count": 1,
   "id": "e77b371f",
   "metadata": {},
   "outputs": [],
   "source": [
    "import pandas as pd\n",
    "import numpy as np\n",
    "from sklearn.model_selection import train_test_split\n",
    "from sklearn.linear_model import LinearRegression\n",
    "import pickle\n",
    "from sklearn.metrics import mean_absolute_error\n",
    "\n",
    "import warnings\n",
    "warnings.filterwarnings('ignore')"
   ]
  },
  {
   "cell_type": "code",
   "execution_count": 2,
   "id": "218f9ea0",
   "metadata": {
    "scrolled": true
   },
   "outputs": [],
   "source": [
    "df = pd.read_csv(\"Data.csv\")"
   ]
  },
  {
   "cell_type": "code",
   "execution_count": 3,
   "id": "fe8f7f54",
   "metadata": {},
   "outputs": [],
   "source": [
    "consistent_teams=['England','Australia','West Indies','India','Bangladesh','New Zealand','Pakistan','South Africa','Sri Lanka']"
   ]
  },
  {
   "cell_type": "code",
   "execution_count": 4,
   "id": "f4fed7d2",
   "metadata": {},
   "outputs": [],
   "source": [
    "df=df[df['batting_team'].isin(consistent_teams)]"
   ]
  },
  {
   "cell_type": "code",
   "execution_count": 5,
   "id": "63688680",
   "metadata": {},
   "outputs": [],
   "source": [
    "df=df[df['bowling_team'].isin(consistent_teams)]"
   ]
  },
  {
   "cell_type": "code",
   "execution_count": 6,
   "id": "a06ede44",
   "metadata": {},
   "outputs": [
    {
     "data": {
      "text/plain": [
       "Index(['match_id', 'season', 'start_date', 'venue', 'innings', 'ball',\n",
       "       'batting_team', 'bowling_team', 'striker', 'non_striker', 'bowler',\n",
       "       'runs_off_bat', 'extras', 'wides', 'noballs', 'byes', 'legbyes',\n",
       "       'penalty', 'wicket_type', 'player_dismissed', 'other_wicket_type',\n",
       "       'other_player_dismissed'],\n",
       "      dtype='object')"
      ]
     },
     "execution_count": 6,
     "metadata": {},
     "output_type": "execute_result"
    }
   ],
   "source": [
    "df.columns"
   ]
  },
  {
   "cell_type": "code",
   "execution_count": 7,
   "id": "a14613e5",
   "metadata": {},
   "outputs": [],
   "source": [
    "df=df.sort_values(['match_id', 'innings'], ascending=[True, True])"
   ]
  },
  {
   "cell_type": "code",
   "execution_count": 8,
   "id": "016bcdb7",
   "metadata": {},
   "outputs": [],
   "source": [
    "df['overs']=df['ball']\n",
    "df['ball'] = df['ball'].astype(str)\n",
    "df['ball'].str[0:-1]\n",
    "df['over']=df['ball'].str[0:-1]\n",
    "df['over'].str.replace('.', '')\n",
    "df['over']=df['over'].str.replace('.', '')\n",
    "df['ball'].str[-1:]\n",
    "df['ball']=df['ball'].str[-1:]"
   ]
  },
  {
   "cell_type": "code",
   "execution_count": 9,
   "id": "63baca26",
   "metadata": {},
   "outputs": [],
   "source": [
    "df['total_runs']=df['runs_off_bat']+df['extras']"
   ]
  },
  {
   "cell_type": "code",
   "execution_count": 10,
   "id": "1a19e3df",
   "metadata": {},
   "outputs": [],
   "source": [
    "df=df[['match_id','innings','batting_team','bowling_team','overs','over','ball','total_runs','player_dismissed']]"
   ]
  },
  {
   "cell_type": "code",
   "execution_count": 11,
   "id": "4243a8ba",
   "metadata": {},
   "outputs": [],
   "source": [
    "df=df.rename(columns={\"match_id\": \"id\"})"
   ]
  },
  {
   "cell_type": "code",
   "execution_count": 12,
   "id": "5f12aecf",
   "metadata": {},
   "outputs": [],
   "source": [
    "df = df.replace(np.nan, 0)"
   ]
  },
  {
   "cell_type": "markdown",
   "id": "bad1fffe",
   "metadata": {},
   "source": [
    "# Total runs scored in the innings"
   ]
  },
  {
   "cell_type": "code",
   "execution_count": 13,
   "id": "7832166c",
   "metadata": {},
   "outputs": [
    {
     "data": {
      "text/plain": [
       "354008    179\n",
       "354009    179\n",
       "354010    179\n",
       "354011    179\n",
       "354012    179\n",
       "         ... \n",
       "329240     65\n",
       "329241     65\n",
       "329242     65\n",
       "329243     65\n",
       "329244     65\n",
       "Name: total_runs, Length: 171497, dtype: int64"
      ]
     },
     "execution_count": 13,
     "metadata": {},
     "output_type": "execute_result"
    }
   ],
   "source": [
    "df.groupby(['id','innings'])['total_runs'].transform('sum')"
   ]
  },
  {
   "cell_type": "code",
   "execution_count": 14,
   "id": "385b6946",
   "metadata": {},
   "outputs": [],
   "source": [
    "df['total']=df.groupby(['id','innings'])['total_runs'].transform('sum')"
   ]
  },
  {
   "cell_type": "markdown",
   "id": "b6a614b5",
   "metadata": {},
   "source": [
    "# Runs scored till the current ball"
   ]
  },
  {
   "cell_type": "code",
   "execution_count": 15,
   "id": "37b7de47",
   "metadata": {},
   "outputs": [
    {
     "data": {
      "text/plain": [
       "354008     0\n",
       "354009     1\n",
       "354010     1\n",
       "354011     1\n",
       "354012     1\n",
       "          ..\n",
       "329240    53\n",
       "329241    59\n",
       "329242    61\n",
       "329243    61\n",
       "329244    65\n",
       "Name: total_runs, Length: 171497, dtype: int64"
      ]
     },
     "execution_count": 15,
     "metadata": {},
     "output_type": "execute_result"
    }
   ],
   "source": [
    "df.groupby(['id', 'innings'])['total_runs'].apply(lambda x: x.cumsum())"
   ]
  },
  {
   "cell_type": "code",
   "execution_count": 16,
   "id": "1fa84998",
   "metadata": {},
   "outputs": [],
   "source": [
    "df['total_score']=df.groupby(['id', 'innings'])['total_runs'].apply(lambda x: x.cumsum())"
   ]
  },
  {
   "cell_type": "markdown",
   "id": "9fbefe2d",
   "metadata": {},
   "source": [
    "# Runs scored in previous 30 balls"
   ]
  },
  {
   "cell_type": "code",
   "execution_count": 17,
   "id": "f95dfad7",
   "metadata": {},
   "outputs": [
    {
     "data": {
      "text/html": [
       "<div>\n",
       "<style scoped>\n",
       "    .dataframe tbody tr th:only-of-type {\n",
       "        vertical-align: middle;\n",
       "    }\n",
       "\n",
       "    .dataframe tbody tr th {\n",
       "        vertical-align: top;\n",
       "    }\n",
       "\n",
       "    .dataframe thead th {\n",
       "        text-align: right;\n",
       "    }\n",
       "</style>\n",
       "<table border=\"1\" class=\"dataframe\">\n",
       "  <thead>\n",
       "    <tr style=\"text-align: right;\">\n",
       "      <th></th>\n",
       "      <th>id</th>\n",
       "      <th>innings</th>\n",
       "      <th>level_2</th>\n",
       "      <th>total_runs</th>\n",
       "    </tr>\n",
       "  </thead>\n",
       "  <tbody>\n",
       "    <tr>\n",
       "      <th>0</th>\n",
       "      <td>211028</td>\n",
       "      <td>1</td>\n",
       "      <td>354008</td>\n",
       "      <td>0.0</td>\n",
       "    </tr>\n",
       "    <tr>\n",
       "      <th>1</th>\n",
       "      <td>211028</td>\n",
       "      <td>1</td>\n",
       "      <td>354009</td>\n",
       "      <td>1.0</td>\n",
       "    </tr>\n",
       "    <tr>\n",
       "      <th>2</th>\n",
       "      <td>211028</td>\n",
       "      <td>1</td>\n",
       "      <td>354010</td>\n",
       "      <td>1.0</td>\n",
       "    </tr>\n",
       "    <tr>\n",
       "      <th>3</th>\n",
       "      <td>211028</td>\n",
       "      <td>1</td>\n",
       "      <td>354011</td>\n",
       "      <td>1.0</td>\n",
       "    </tr>\n",
       "    <tr>\n",
       "      <th>4</th>\n",
       "      <td>211028</td>\n",
       "      <td>1</td>\n",
       "      <td>354012</td>\n",
       "      <td>1.0</td>\n",
       "    </tr>\n",
       "    <tr>\n",
       "      <th>...</th>\n",
       "      <td>...</td>\n",
       "      <td>...</td>\n",
       "      <td>...</td>\n",
       "      <td>...</td>\n",
       "    </tr>\n",
       "    <tr>\n",
       "      <th>171492</th>\n",
       "      <td>1399119</td>\n",
       "      <td>2</td>\n",
       "      <td>329240</td>\n",
       "      <td>53.0</td>\n",
       "    </tr>\n",
       "    <tr>\n",
       "      <th>171493</th>\n",
       "      <td>1399119</td>\n",
       "      <td>2</td>\n",
       "      <td>329241</td>\n",
       "      <td>59.0</td>\n",
       "    </tr>\n",
       "    <tr>\n",
       "      <th>171494</th>\n",
       "      <td>1399119</td>\n",
       "      <td>2</td>\n",
       "      <td>329242</td>\n",
       "      <td>60.0</td>\n",
       "    </tr>\n",
       "    <tr>\n",
       "      <th>171495</th>\n",
       "      <td>1399119</td>\n",
       "      <td>2</td>\n",
       "      <td>329243</td>\n",
       "      <td>60.0</td>\n",
       "    </tr>\n",
       "    <tr>\n",
       "      <th>171496</th>\n",
       "      <td>1399119</td>\n",
       "      <td>2</td>\n",
       "      <td>329244</td>\n",
       "      <td>64.0</td>\n",
       "    </tr>\n",
       "  </tbody>\n",
       "</table>\n",
       "<p>171497 rows × 4 columns</p>\n",
       "</div>"
      ],
      "text/plain": [
       "             id  innings  level_2  total_runs\n",
       "0        211028        1   354008         0.0\n",
       "1        211028        1   354009         1.0\n",
       "2        211028        1   354010         1.0\n",
       "3        211028        1   354011         1.0\n",
       "4        211028        1   354012         1.0\n",
       "...         ...      ...      ...         ...\n",
       "171492  1399119        2   329240        53.0\n",
       "171493  1399119        2   329241        59.0\n",
       "171494  1399119        2   329242        60.0\n",
       "171495  1399119        2   329243        60.0\n",
       "171496  1399119        2   329244        64.0\n",
       "\n",
       "[171497 rows x 4 columns]"
      ]
     },
     "execution_count": 17,
     "metadata": {},
     "output_type": "execute_result"
    }
   ],
   "source": [
    "df.groupby(['id','innings'])['total_runs'].rolling(min_periods=1, window=30).sum().reset_index()"
   ]
  },
  {
   "cell_type": "code",
   "execution_count": 18,
   "id": "9e80f247",
   "metadata": {},
   "outputs": [],
   "source": [
    "tmp=df.groupby(['id','innings'])['total_runs'].rolling(min_periods=1, window=30).sum().reset_index()"
   ]
  },
  {
   "cell_type": "code",
   "execution_count": 19,
   "id": "65cfd3db",
   "metadata": {},
   "outputs": [
    {
     "data": {
      "text/html": [
       "<div>\n",
       "<style scoped>\n",
       "    .dataframe tbody tr th:only-of-type {\n",
       "        vertical-align: middle;\n",
       "    }\n",
       "\n",
       "    .dataframe tbody tr th {\n",
       "        vertical-align: top;\n",
       "    }\n",
       "\n",
       "    .dataframe thead th {\n",
       "        text-align: right;\n",
       "    }\n",
       "</style>\n",
       "<table border=\"1\" class=\"dataframe\">\n",
       "  <thead>\n",
       "    <tr style=\"text-align: right;\">\n",
       "      <th></th>\n",
       "      <th>total_runs</th>\n",
       "    </tr>\n",
       "  </thead>\n",
       "  <tbody>\n",
       "    <tr>\n",
       "      <th>0</th>\n",
       "      <td>0.0</td>\n",
       "    </tr>\n",
       "    <tr>\n",
       "      <th>1</th>\n",
       "      <td>1.0</td>\n",
       "    </tr>\n",
       "    <tr>\n",
       "      <th>2</th>\n",
       "      <td>1.0</td>\n",
       "    </tr>\n",
       "    <tr>\n",
       "      <th>3</th>\n",
       "      <td>1.0</td>\n",
       "    </tr>\n",
       "    <tr>\n",
       "      <th>4</th>\n",
       "      <td>1.0</td>\n",
       "    </tr>\n",
       "    <tr>\n",
       "      <th>...</th>\n",
       "      <td>...</td>\n",
       "    </tr>\n",
       "    <tr>\n",
       "      <th>171492</th>\n",
       "      <td>53.0</td>\n",
       "    </tr>\n",
       "    <tr>\n",
       "      <th>171493</th>\n",
       "      <td>59.0</td>\n",
       "    </tr>\n",
       "    <tr>\n",
       "      <th>171494</th>\n",
       "      <td>60.0</td>\n",
       "    </tr>\n",
       "    <tr>\n",
       "      <th>171495</th>\n",
       "      <td>60.0</td>\n",
       "    </tr>\n",
       "    <tr>\n",
       "      <th>171496</th>\n",
       "      <td>64.0</td>\n",
       "    </tr>\n",
       "  </tbody>\n",
       "</table>\n",
       "<p>171497 rows × 1 columns</p>\n",
       "</div>"
      ],
      "text/plain": [
       "        total_runs\n",
       "0              0.0\n",
       "1              1.0\n",
       "2              1.0\n",
       "3              1.0\n",
       "4              1.0\n",
       "...            ...\n",
       "171492        53.0\n",
       "171493        59.0\n",
       "171494        60.0\n",
       "171495        60.0\n",
       "171496        64.0\n",
       "\n",
       "[171497 rows x 1 columns]"
      ]
     },
     "execution_count": 19,
     "metadata": {},
     "output_type": "execute_result"
    }
   ],
   "source": [
    "tmp[['total_runs']]"
   ]
  },
  {
   "cell_type": "code",
   "execution_count": 20,
   "id": "7c258162",
   "metadata": {},
   "outputs": [],
   "source": [
    "df['prev_30_runs']=tmp['total_runs'].to_list()"
   ]
  },
  {
   "cell_type": "markdown",
   "id": "ef63c914",
   "metadata": {},
   "source": [
    "# Wickets fallen in previous 30 balls"
   ]
  },
  {
   "cell_type": "code",
   "execution_count": 21,
   "id": "de22de3f",
   "metadata": {},
   "outputs": [],
   "source": [
    "df['player_dismissed']=np.where(df['player_dismissed']==0, 0, 1)"
   ]
  },
  {
   "cell_type": "code",
   "execution_count": 22,
   "id": "65de6771",
   "metadata": {},
   "outputs": [],
   "source": [
    "tmp=df.groupby(['id','innings'])['player_dismissed'].rolling(min_periods=1, window=30).sum().reset_index()\n",
    "\n",
    "df['prev_30_wickets']=tmp['player_dismissed'].to_list()"
   ]
  },
  {
   "cell_type": "markdown",
   "id": "775de33f",
   "metadata": {},
   "source": [
    "# Wickets fallen till the current ball"
   ]
  },
  {
   "cell_type": "code",
   "execution_count": 23,
   "id": "2b571988",
   "metadata": {},
   "outputs": [
    {
     "data": {
      "text/plain": [
       "354008    0\n",
       "354009    0\n",
       "354010    0\n",
       "354011    0\n",
       "354012    0\n",
       "         ..\n",
       "329240    3\n",
       "329241    3\n",
       "329242    3\n",
       "329243    4\n",
       "329244    4\n",
       "Name: player_dismissed, Length: 171497, dtype: int32"
      ]
     },
     "execution_count": 23,
     "metadata": {},
     "output_type": "execute_result"
    }
   ],
   "source": [
    "df.groupby(['id', 'innings'])['player_dismissed'].apply(lambda x: x.cumsum())"
   ]
  },
  {
   "cell_type": "code",
   "execution_count": 24,
   "id": "c5f72b50",
   "metadata": {},
   "outputs": [],
   "source": [
    "df['total_wickets']=df.groupby(['id', 'innings'])['player_dismissed'].apply(lambda x: x.cumsum())"
   ]
  },
  {
   "cell_type": "markdown",
   "id": "1442eef3",
   "metadata": {},
   "source": [
    "# Dot balls in previous 30 balls"
   ]
  },
  {
   "cell_type": "code",
   "execution_count": 25,
   "id": "b0946391",
   "metadata": {},
   "outputs": [],
   "source": [
    "df['prev_30_dot_balls']=df['total_runs']\n",
    "df['prev_30_dot_balls']=np.where(df['prev_30_dot_balls']==0, 1, 0)\n",
    "\n",
    "tmp=df.groupby(['id','innings'])['prev_30_dot_balls'].rolling(min_periods=1, window=30).sum().reset_index()\n",
    "df['prev_30_dot_balls']=tmp['prev_30_dot_balls'].to_list()"
   ]
  },
  {
   "cell_type": "markdown",
   "id": "967e121d",
   "metadata": {},
   "source": [
    "# Boundaries in previous 30 balls"
   ]
  },
  {
   "cell_type": "code",
   "execution_count": 26,
   "id": "93e7620a",
   "metadata": {},
   "outputs": [],
   "source": [
    "df['prev_30_boundaries']=df['total_runs']\n",
    "df['prev_30_boundaries']=np.where(df['prev_30_boundaries']>3, 1, 0)\n",
    "\n",
    "tmp=df.groupby(['id','innings'])['prev_30_boundaries'].rolling(min_periods=1, window=30).sum().reset_index()\n",
    "df['prev_30_boundaries']=tmp['prev_30_boundaries'].to_list()"
   ]
  },
  {
   "cell_type": "markdown",
   "id": "18f27d99",
   "metadata": {},
   "source": [
    "# Runrate last 30 balls"
   ]
  },
  {
   "cell_type": "code",
   "execution_count": 27,
   "id": "01b86637",
   "metadata": {},
   "outputs": [],
   "source": [
    "df['run_rate'] = df.apply(lambda x : x['total_score'] / x['overs'], axis = 1)\n",
    "\n",
    "df['runrate_last30balls'] = df.apply(lambda x : x['prev_30_runs'] / x['overs'], axis = 1)"
   ]
  },
  {
   "cell_type": "code",
   "execution_count": 28,
   "id": "83e23d9b",
   "metadata": {},
   "outputs": [],
   "source": [
    "convert_dict = {'prev_30_runs': int, \n",
    "                'prev_30_wickets': int,\n",
    "                'prev_30_dot_balls':int,\n",
    "                'prev_30_boundaries':int\n",
    "               } \n",
    "  \n",
    "df = df.astype(convert_dict) "
   ]
  },
  {
   "cell_type": "code",
   "execution_count": 29,
   "id": "acf10163",
   "metadata": {},
   "outputs": [
    {
     "data": {
      "text/html": [
       "<div>\n",
       "<style scoped>\n",
       "    .dataframe tbody tr th:only-of-type {\n",
       "        vertical-align: middle;\n",
       "    }\n",
       "\n",
       "    .dataframe tbody tr th {\n",
       "        vertical-align: top;\n",
       "    }\n",
       "\n",
       "    .dataframe thead th {\n",
       "        text-align: right;\n",
       "    }\n",
       "</style>\n",
       "<table border=\"1\" class=\"dataframe\">\n",
       "  <thead>\n",
       "    <tr style=\"text-align: right;\">\n",
       "      <th></th>\n",
       "      <th>id</th>\n",
       "      <th>innings</th>\n",
       "      <th>batting_team</th>\n",
       "      <th>bowling_team</th>\n",
       "      <th>overs</th>\n",
       "      <th>over</th>\n",
       "      <th>ball</th>\n",
       "      <th>total_runs</th>\n",
       "      <th>player_dismissed</th>\n",
       "      <th>total</th>\n",
       "      <th>total_score</th>\n",
       "      <th>prev_30_runs</th>\n",
       "      <th>prev_30_wickets</th>\n",
       "      <th>total_wickets</th>\n",
       "      <th>prev_30_dot_balls</th>\n",
       "      <th>prev_30_boundaries</th>\n",
       "      <th>run_rate</th>\n",
       "      <th>runrate_last30balls</th>\n",
       "    </tr>\n",
       "  </thead>\n",
       "  <tbody>\n",
       "    <tr>\n",
       "      <th>354008</th>\n",
       "      <td>211028</td>\n",
       "      <td>1</td>\n",
       "      <td>England</td>\n",
       "      <td>Australia</td>\n",
       "      <td>0.1</td>\n",
       "      <td>0</td>\n",
       "      <td>1</td>\n",
       "      <td>0</td>\n",
       "      <td>0</td>\n",
       "      <td>179</td>\n",
       "      <td>0</td>\n",
       "      <td>0</td>\n",
       "      <td>0</td>\n",
       "      <td>0</td>\n",
       "      <td>1</td>\n",
       "      <td>0</td>\n",
       "      <td>0.000000</td>\n",
       "      <td>0.000000</td>\n",
       "    </tr>\n",
       "    <tr>\n",
       "      <th>354009</th>\n",
       "      <td>211028</td>\n",
       "      <td>1</td>\n",
       "      <td>England</td>\n",
       "      <td>Australia</td>\n",
       "      <td>0.2</td>\n",
       "      <td>0</td>\n",
       "      <td>2</td>\n",
       "      <td>1</td>\n",
       "      <td>0</td>\n",
       "      <td>179</td>\n",
       "      <td>1</td>\n",
       "      <td>1</td>\n",
       "      <td>0</td>\n",
       "      <td>0</td>\n",
       "      <td>1</td>\n",
       "      <td>0</td>\n",
       "      <td>5.000000</td>\n",
       "      <td>5.000000</td>\n",
       "    </tr>\n",
       "    <tr>\n",
       "      <th>354010</th>\n",
       "      <td>211028</td>\n",
       "      <td>1</td>\n",
       "      <td>England</td>\n",
       "      <td>Australia</td>\n",
       "      <td>0.3</td>\n",
       "      <td>0</td>\n",
       "      <td>3</td>\n",
       "      <td>0</td>\n",
       "      <td>0</td>\n",
       "      <td>179</td>\n",
       "      <td>1</td>\n",
       "      <td>1</td>\n",
       "      <td>0</td>\n",
       "      <td>0</td>\n",
       "      <td>2</td>\n",
       "      <td>0</td>\n",
       "      <td>3.333333</td>\n",
       "      <td>3.333333</td>\n",
       "    </tr>\n",
       "    <tr>\n",
       "      <th>354011</th>\n",
       "      <td>211028</td>\n",
       "      <td>1</td>\n",
       "      <td>England</td>\n",
       "      <td>Australia</td>\n",
       "      <td>0.4</td>\n",
       "      <td>0</td>\n",
       "      <td>4</td>\n",
       "      <td>0</td>\n",
       "      <td>0</td>\n",
       "      <td>179</td>\n",
       "      <td>1</td>\n",
       "      <td>1</td>\n",
       "      <td>0</td>\n",
       "      <td>0</td>\n",
       "      <td>3</td>\n",
       "      <td>0</td>\n",
       "      <td>2.500000</td>\n",
       "      <td>2.500000</td>\n",
       "    </tr>\n",
       "    <tr>\n",
       "      <th>354012</th>\n",
       "      <td>211028</td>\n",
       "      <td>1</td>\n",
       "      <td>England</td>\n",
       "      <td>Australia</td>\n",
       "      <td>0.5</td>\n",
       "      <td>0</td>\n",
       "      <td>5</td>\n",
       "      <td>0</td>\n",
       "      <td>0</td>\n",
       "      <td>179</td>\n",
       "      <td>1</td>\n",
       "      <td>1</td>\n",
       "      <td>0</td>\n",
       "      <td>0</td>\n",
       "      <td>4</td>\n",
       "      <td>0</td>\n",
       "      <td>2.000000</td>\n",
       "      <td>2.000000</td>\n",
       "    </tr>\n",
       "  </tbody>\n",
       "</table>\n",
       "</div>"
      ],
      "text/plain": [
       "            id  innings batting_team bowling_team  overs over ball  \\\n",
       "354008  211028        1      England    Australia    0.1    0    1   \n",
       "354009  211028        1      England    Australia    0.2    0    2   \n",
       "354010  211028        1      England    Australia    0.3    0    3   \n",
       "354011  211028        1      England    Australia    0.4    0    4   \n",
       "354012  211028        1      England    Australia    0.5    0    5   \n",
       "\n",
       "        total_runs  player_dismissed  total  total_score  prev_30_runs  \\\n",
       "354008           0                 0    179            0             0   \n",
       "354009           1                 0    179            1             1   \n",
       "354010           0                 0    179            1             1   \n",
       "354011           0                 0    179            1             1   \n",
       "354012           0                 0    179            1             1   \n",
       "\n",
       "        prev_30_wickets  total_wickets  prev_30_dot_balls  prev_30_boundaries  \\\n",
       "354008                0              0                  1                   0   \n",
       "354009                0              0                  1                   0   \n",
       "354010                0              0                  2                   0   \n",
       "354011                0              0                  3                   0   \n",
       "354012                0              0                  4                   0   \n",
       "\n",
       "        run_rate  runrate_last30balls  \n",
       "354008  0.000000             0.000000  \n",
       "354009  5.000000             5.000000  \n",
       "354010  3.333333             3.333333  \n",
       "354011  2.500000             2.500000  \n",
       "354012  2.000000             2.000000  "
      ]
     },
     "execution_count": 29,
     "metadata": {},
     "output_type": "execute_result"
    }
   ],
   "source": [
    "df.head()"
   ]
  },
  {
   "cell_type": "code",
   "execution_count": 30,
   "id": "8b8aa7a7",
   "metadata": {},
   "outputs": [],
   "source": [
    "df = pd.get_dummies(data=df, columns=['batting_team', 'bowling_team'])"
   ]
  },
  {
   "cell_type": "code",
   "execution_count": 31,
   "id": "97792e1e",
   "metadata": {},
   "outputs": [],
   "source": [
    "df=df[['id','batting_team_Australia','batting_team_Bangladesh', 'batting_team_England', 'batting_team_India','batting_team_New Zealand','batting_team_Pakistan', \n",
    "       'batting_team_South Africa', 'batting_team_Sri Lanka','batting_team_West Indies','bowling_team_Australia', 'bowling_team_Bangladesh', 'bowling_team_England',\n",
    "        'bowling_team_India', 'bowling_team_New Zealand', 'bowling_team_Pakistan','bowling_team_South Africa', 'bowling_team_Sri Lanka','bowling_team_West Indies',\n",
    "            'overs','total_score','total_wickets','prev_30_runs','prev_30_wickets','prev_30_dot_balls','prev_30_boundaries','total', 'run_rate', 'runrate_last30balls']]"
   ]
  },
  {
   "cell_type": "markdown",
   "id": "ec75652d",
   "metadata": {},
   "source": [
    "# train_test_split"
   ]
  },
  {
   "cell_type": "code",
   "execution_count": 32,
   "id": "fbf87f9e",
   "metadata": {},
   "outputs": [],
   "source": [
    "X = df.drop(labels=['total','id'], axis=1)\n",
    "y = df['total'].values"
   ]
  },
  {
   "cell_type": "code",
   "execution_count": 33,
   "id": "a5db9c43",
   "metadata": {},
   "outputs": [],
   "source": [
    "# split into train test sets\n",
    "X_train, X_test, y_train, y_test = train_test_split(X, y, test_size=0.25,random_state=42,stratify=y)"
   ]
  },
  {
   "cell_type": "code",
   "execution_count": 34,
   "id": "e9262ce6",
   "metadata": {},
   "outputs": [],
   "source": [
    "X_train=X_train.values\n",
    "X_test=X_test.values\n",
    "X_train=np.asarray(X_train).astype(np.float32)\n",
    "X_test=np.asarray(X_test).astype(np.float32)"
   ]
  },
  {
   "cell_type": "code",
   "execution_count": 35,
   "id": "a947f533",
   "metadata": {},
   "outputs": [
    {
     "name": "stdout",
     "output_type": "stream",
     "text": [
      "(128622, 27) (42875, 27) (128622,) (42875,)\n"
     ]
    }
   ],
   "source": [
    "print(X_train.shape, X_test.shape, y_train.shape, y_test.shape)"
   ]
  },
  {
   "cell_type": "markdown",
   "id": "c165b8bb",
   "metadata": {},
   "source": [
    "# Training LR model"
   ]
  },
  {
   "cell_type": "code",
   "execution_count": 36,
   "id": "80055aaf",
   "metadata": {},
   "outputs": [
    {
     "data": {
      "text/html": [
       "<style>#sk-container-id-1 {color: black;background-color: white;}#sk-container-id-1 pre{padding: 0;}#sk-container-id-1 div.sk-toggleable {background-color: white;}#sk-container-id-1 label.sk-toggleable__label {cursor: pointer;display: block;width: 100%;margin-bottom: 0;padding: 0.3em;box-sizing: border-box;text-align: center;}#sk-container-id-1 label.sk-toggleable__label-arrow:before {content: \"▸\";float: left;margin-right: 0.25em;color: #696969;}#sk-container-id-1 label.sk-toggleable__label-arrow:hover:before {color: black;}#sk-container-id-1 div.sk-estimator:hover label.sk-toggleable__label-arrow:before {color: black;}#sk-container-id-1 div.sk-toggleable__content {max-height: 0;max-width: 0;overflow: hidden;text-align: left;background-color: #f0f8ff;}#sk-container-id-1 div.sk-toggleable__content pre {margin: 0.2em;color: black;border-radius: 0.25em;background-color: #f0f8ff;}#sk-container-id-1 input.sk-toggleable__control:checked~div.sk-toggleable__content {max-height: 200px;max-width: 100%;overflow: auto;}#sk-container-id-1 input.sk-toggleable__control:checked~label.sk-toggleable__label-arrow:before {content: \"▾\";}#sk-container-id-1 div.sk-estimator input.sk-toggleable__control:checked~label.sk-toggleable__label {background-color: #d4ebff;}#sk-container-id-1 div.sk-label input.sk-toggleable__control:checked~label.sk-toggleable__label {background-color: #d4ebff;}#sk-container-id-1 input.sk-hidden--visually {border: 0;clip: rect(1px 1px 1px 1px);clip: rect(1px, 1px, 1px, 1px);height: 1px;margin: -1px;overflow: hidden;padding: 0;position: absolute;width: 1px;}#sk-container-id-1 div.sk-estimator {font-family: monospace;background-color: #f0f8ff;border: 1px dotted black;border-radius: 0.25em;box-sizing: border-box;margin-bottom: 0.5em;}#sk-container-id-1 div.sk-estimator:hover {background-color: #d4ebff;}#sk-container-id-1 div.sk-parallel-item::after {content: \"\";width: 100%;border-bottom: 1px solid gray;flex-grow: 1;}#sk-container-id-1 div.sk-label:hover label.sk-toggleable__label {background-color: #d4ebff;}#sk-container-id-1 div.sk-serial::before {content: \"\";position: absolute;border-left: 1px solid gray;box-sizing: border-box;top: 0;bottom: 0;left: 50%;z-index: 0;}#sk-container-id-1 div.sk-serial {display: flex;flex-direction: column;align-items: center;background-color: white;padding-right: 0.2em;padding-left: 0.2em;position: relative;}#sk-container-id-1 div.sk-item {position: relative;z-index: 1;}#sk-container-id-1 div.sk-parallel {display: flex;align-items: stretch;justify-content: center;background-color: white;position: relative;}#sk-container-id-1 div.sk-item::before, #sk-container-id-1 div.sk-parallel-item::before {content: \"\";position: absolute;border-left: 1px solid gray;box-sizing: border-box;top: 0;bottom: 0;left: 50%;z-index: -1;}#sk-container-id-1 div.sk-parallel-item {display: flex;flex-direction: column;z-index: 1;position: relative;background-color: white;}#sk-container-id-1 div.sk-parallel-item:first-child::after {align-self: flex-end;width: 50%;}#sk-container-id-1 div.sk-parallel-item:last-child::after {align-self: flex-start;width: 50%;}#sk-container-id-1 div.sk-parallel-item:only-child::after {width: 0;}#sk-container-id-1 div.sk-dashed-wrapped {border: 1px dashed gray;margin: 0 0.4em 0.5em 0.4em;box-sizing: border-box;padding-bottom: 0.4em;background-color: white;}#sk-container-id-1 div.sk-label label {font-family: monospace;font-weight: bold;display: inline-block;line-height: 1.2em;}#sk-container-id-1 div.sk-label-container {text-align: center;}#sk-container-id-1 div.sk-container {/* jupyter's `normalize.less` sets `[hidden] { display: none; }` but bootstrap.min.css set `[hidden] { display: none !important; }` so we also need the `!important` here to be able to override the default hidden behavior on the sphinx rendered scikit-learn.org. See: https://github.com/scikit-learn/scikit-learn/issues/21755 */display: inline-block !important;position: relative;}#sk-container-id-1 div.sk-text-repr-fallback {display: none;}</style><div id=\"sk-container-id-1\" class=\"sk-top-container\"><div class=\"sk-text-repr-fallback\"><pre>LinearRegression()</pre><b>In a Jupyter environment, please rerun this cell to show the HTML representation or trust the notebook. <br />On GitHub, the HTML representation is unable to render, please try loading this page with nbviewer.org.</b></div><div class=\"sk-container\" hidden><div class=\"sk-item\"><div class=\"sk-estimator sk-toggleable\"><input class=\"sk-toggleable__control sk-hidden--visually\" id=\"sk-estimator-id-1\" type=\"checkbox\" checked><label for=\"sk-estimator-id-1\" class=\"sk-toggleable__label sk-toggleable__label-arrow\">LinearRegression</label><div class=\"sk-toggleable__content\"><pre>LinearRegression()</pre></div></div></div></div></div>"
      ],
      "text/plain": [
       "LinearRegression()"
      ]
     },
     "execution_count": 36,
     "metadata": {},
     "output_type": "execute_result"
    }
   ],
   "source": [
    "LR_model = LinearRegression()\n",
    "LR_model.fit(X_train,y_train)"
   ]
  },
  {
   "cell_type": "code",
   "execution_count": 37,
   "id": "37b93af2",
   "metadata": {},
   "outputs": [],
   "source": [
    "# Creating a pickle file for the classifier\n",
    "filename = 'lr-model.pkl'\n",
    "pickle.dump(LR_model, open(filename, 'wb'))"
   ]
  },
  {
   "cell_type": "code",
   "execution_count": 38,
   "id": "fcf3677a",
   "metadata": {},
   "outputs": [
    {
     "data": {
      "text/plain": [
       "18.70190783584639"
      ]
     },
     "execution_count": 38,
     "metadata": {},
     "output_type": "execute_result"
    }
   ],
   "source": [
    "prediction=LR_model.predict(X_test)\n",
    "mean_absolute_error (y_test, prediction)"
   ]
  },
  {
   "cell_type": "code",
   "execution_count": 39,
   "id": "397c6bc4",
   "metadata": {},
   "outputs": [],
   "source": [
    "# Function to predict scores :\n",
    "\n",
    "def score_prediction(Bat_Team,Bowl_Team,overs,total_score,total_wickets,prev_runs_30,prev_wickets_30,prev_30_dot_balls,prev_30_boundaries,run_rate,runrate_last30balls):\n",
    "\n",
    "    temp_array = list()\n",
    "\n",
    "    if Bat_Team == 'AUS':\n",
    "        temp_array = temp_array + [1,0,0,0,0,0,0,0,0]\n",
    "    elif Bat_Team == 'BAN':\n",
    "        temp_array = temp_array + [0,1,0,0,0,0,0,0,0]\n",
    "    elif Bat_Team == 'ENG':\n",
    "        temp_array = temp_array + [0,0,1,0,0,0,0,0,0]\n",
    "    elif Bat_Team == 'IND':\n",
    "        temp_array = temp_array + [0,0,0,1,0,0,0,0,0]\n",
    "    elif Bat_Team == 'NZ':\n",
    "        temp_array = temp_array + [0,0,0,0,1,0,0,0,0]\n",
    "    elif Bat_Team == 'PAK':\n",
    "        temp_array = temp_array + [0,0,0,0,0,1,0,0,0]\n",
    "    elif Bat_Team == 'SA':\n",
    "        temp_array = temp_array + [0,0,0,0,0,0,1,0,0]\n",
    "    elif Bat_Team == 'SL':\n",
    "        temp_array = temp_array + [0,0,0,0,0,0,0,1,0]\n",
    "    elif Bat_Team == 'WI':\n",
    "        temp_array = temp_array + [0,0,0,0,0,0,0,0,1]\n",
    "\n",
    "    if Bowl_Team == 'AUS':\n",
    "        temp_array = temp_array + [1,0,0,0,0,0,0,0,0]\n",
    "    elif Bowl_Team == 'BAN':\n",
    "        temp_array = temp_array + [0,1,0,0,0,0,0,0,0]\n",
    "    elif Bowl_Team == 'ENG':\n",
    "        temp_array = temp_array + [0,0,1,0,0,0,0,0,0]\n",
    "    elif Bowl_Team == 'IND':\n",
    "        temp_array = temp_array + [0,0,0,1,0,0,0,0,0]\n",
    "    elif Bowl_Team == 'NZ':\n",
    "        temp_array = temp_array + [0,0,0,0,1,0,0,0,0]\n",
    "    elif Bowl_Team == 'PAK':\n",
    "        temp_array = temp_array + [0,0,0,0,0,1,0,0,0]\n",
    "    elif Bowl_Team == 'SA':\n",
    "        temp_array = temp_array + [0,0,0,0,0,0,1,0,0]\n",
    "    elif Bowl_Team == 'SL':\n",
    "        temp_array = temp_array + [0,0,0,0,0,0,0,1,0]\n",
    "    elif Bowl_Team == 'WI':\n",
    "        temp_array = temp_array + [0,0,0,0,0,0,0,0,1]\n",
    "\n",
    "    temp_array = temp_array + [overs,total_score,total_wickets,prev_runs_30,prev_wickets_30,prev_30_dot_balls,prev_30_boundaries,run_rate, runrate_last30balls]\n",
    "    data = np.array([temp_array])\n",
    "    my_prediction = int(LR_model.predict(data))\n",
    "\n",
    "    print('Predicted score: ',my_prediction)\n",
    "    print('Predicted score range: ',my_prediction - 18, 'to' , my_prediction + 18)"
   ]
  },
  {
   "cell_type": "code",
   "execution_count": 40,
   "id": "27121e63",
   "metadata": {
    "scrolled": true
   },
   "outputs": [
    {
     "name": "stdout",
     "output_type": "stream",
     "text": [
      "Predicted score:  197\n",
      "Predicted score range:  179 to 215\n"
     ]
    }
   ],
   "source": [
    "Bat_Team = 'IND' \n",
    "\n",
    "Bowl_Team = 'SA' \n",
    "\n",
    "overs = 13.6\n",
    "\n",
    "total_score = 141 # current score\n",
    "\n",
    "total_wickets = 3 # current wicket \n",
    "\n",
    "prev_runs_30 = 57 # runs in last 30 balls\n",
    "\n",
    "prev_wickets_30 = 0 # wickets in last 30 balls\n",
    "\n",
    "prev_30_dot_balls = 5 # dots in last 30 balls\n",
    "\n",
    "prev_30_boundaries = 7 # boundaries in last 30 balls\n",
    "\n",
    "run_rate = 10.37            # current run rate\n",
    "\n",
    "runrate_last30balls = 9.5  # run_rate in last 30 balls\n",
    "\n",
    "score_prediction(Bat_Team,Bowl_Team,overs,total_score,total_wickets,\n",
    "                         prev_runs_30,prev_wickets_30,prev_30_dot_balls,prev_30_boundaries,run_rate, runrate_last30balls)"
   ]
  },
  {
   "cell_type": "code",
   "execution_count": 41,
   "id": "896b71bc",
   "metadata": {
    "scrolled": true
   },
   "outputs": [
    {
     "data": {
      "image/png": "[encoded data removed]",
      "text/plain": [
       "<IPython.core.display.Image object>"
      ]
     },
     "execution_count": 41,
     "metadata": {},
     "output_type": "execute_result"
    }
   ],
   "source": [
    "from IPython.display import Image\n",
    "Image(filename='Screenshot 2024-01-10 173836.png') "
   ]
  }
 ],
 "metadata": {
  "kernelspec": {
   "display_name": "Python 3 (ipykernel)",
   "language": "python",
   "name": "python3"
  },
  "language_info": {
   "codemirror_mode": {
    "name": "ipython",
    "version": 3
   },
   "file_extension": ".py",
   "mimetype": "text/x-python",
   "name": "python",
   "nbconvert_exporter": "python",
   "pygments_lexer": "ipython3",
   "version": "3.9.7"
  }
 },
 "nbformat": 4,
 "nbformat_minor": 5
}
